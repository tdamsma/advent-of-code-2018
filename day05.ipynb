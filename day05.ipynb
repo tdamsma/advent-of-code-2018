{
 "cells": [
  {
   "cell_type": "code",
   "execution_count": 1,
   "metadata": {},
   "outputs": [],
   "source": [
    "with open('day05-input.txt') as fp:\n",
    "    line = fp.read()"
   ]
  },
  {
   "cell_type": "code",
   "execution_count": 2,
   "metadata": {},
   "outputs": [],
   "source": [
    "n = 0\n",
    "polymer = list(line.splitlines()[0])\n",
    "mapping = {c: c.lower() if c.isupper() else c.upper() for c in set(polymer)}\n",
    "\n",
    "while n != len(polymer):\n",
    "    n = len(polymer)\n",
    "    for i, letter in enumerate(polymer):\n",
    "        if i == 0:\n",
    "            prev = letter\n",
    "            continue\n",
    "        if prev == mapping[letter]:\n",
    "            polymer[i-1:i+1] = ['*', '*']\n",
    "            prev = '*'\n",
    "        else:\n",
    "            prev = letter\n",
    "    polymer = [c for c in polymer if c != '*']    "
   ]
  },
  {
   "cell_type": "code",
   "execution_count": 3,
   "metadata": {},
   "outputs": [
    {
     "data": {
      "text/plain": [
       "10774"
      ]
     },
     "execution_count": 3,
     "metadata": {},
     "output_type": "execute_result"
    }
   ],
   "source": [
    "# answer 1\n",
    "len(polymer)"
   ]
  },
  {
   "cell_type": "code",
   "execution_count": 4,
   "metadata": {},
   "outputs": [],
   "source": [
    "polymer = list(line.splitlines()[0])\n",
    "sets_to_remove = [set([c.upper(), c.lower()]) for c in set(polymer) if c.isupper()]\n",
    "\n",
    "minlength = 999999\n",
    "for set_to_remove in sets_to_remove:\n",
    "    polymer = [c for c in list(line.splitlines()[0]) if c not in set_to_remove]\n",
    "    \n",
    "    n = 0\n",
    "    while n != len(polymer):\n",
    "        n = len(polymer)\n",
    "        for i, letter in enumerate(polymer):\n",
    "            if i == 0:\n",
    "                prev = letter\n",
    "                continue\n",
    "            if prev == mapping[letter]:\n",
    "                polymer[i-1:i+1] = ['*', '*']\n",
    "                prev = '*'\n",
    "            else:\n",
    "                prev = letter\n",
    "        polymer = [c for c in polymer if c != '*']    \n",
    "    minlength = min(len(polymer), minlength)\n",
    "  "
   ]
  },
  {
   "cell_type": "code",
   "execution_count": 5,
   "metadata": {},
   "outputs": [
    {
     "data": {
      "text/plain": [
       "5122"
      ]
     },
     "execution_count": 5,
     "metadata": {},
     "output_type": "execute_result"
    }
   ],
   "source": [
    "# answer 2\n",
    "minlength"
   ]
  }
 ],
 "metadata": {
  "kernelspec": {
   "display_name": "Python 3",
   "language": "python",
   "name": "python3"
  },
  "language_info": {
   "codemirror_mode": {
    "name": "ipython",
    "version": 3
   },
   "file_extension": ".py",
   "mimetype": "text/x-python",
   "name": "python",
   "nbconvert_exporter": "python",
   "pygments_lexer": "ipython3",
   "version": "3.7.1"
  }
 },
 "nbformat": 4,
 "nbformat_minor": 2
}
