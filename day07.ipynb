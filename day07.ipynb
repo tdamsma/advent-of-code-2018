{
 "cells": [
  {
   "cell_type": "code",
   "execution_count": 1,
   "metadata": {},
   "outputs": [],
   "source": [
    "lines = \"\"\"Step C must be finished before step A can begin.\n",
    "Step C must be finished before step F can begin.\n",
    "Step A must be finished before step B can begin.\n",
    "Step A must be finished before step D can begin.\n",
    "Step B must be finished before step E can begin.\n",
    "Step D must be finished before step E can begin.\n",
    "Step F must be finished before step E can begin.\n",
    "\"\"\""
   ]
  },
  {
   "cell_type": "code",
   "execution_count": 2,
   "metadata": {},
   "outputs": [],
   "source": [
    "with open('day07-input.txt') as fp:\n",
    "    lines = fp.read()"
   ]
  },
  {
   "cell_type": "code",
   "execution_count": 3,
   "metadata": {},
   "outputs": [],
   "source": [
    "from collections import defaultdict\n",
    "\n",
    "d = defaultdict(set)\n",
    "has_requirements = set()\n",
    "for line in lines.splitlines():\n",
    "    if not line:\n",
    "        continue\n",
    "    a = line.split(' ')[1]\n",
    "    b = line.split(' ')[7]\n",
    "    has_requirements.add(b)\n",
    "    d[b].add(a)\n",
    "    d[a] = d[a]\n",
    "initial = d"
   ]
  },
  {
   "cell_type": "code",
   "execution_count": 4,
   "metadata": {},
   "outputs": [],
   "source": [
    "d = initial.copy()\n",
    "out = ''\n",
    "while len(d.keys()):\n",
    "    can_start = sorted([k for k,v in d.items() if len(v) == 0])[0]\n",
    "    del d[can_start]\n",
    "    d = {k:v-set(can_start) for k,v in d.items()}    \n",
    "    out += can_start"
   ]
  },
  {
   "cell_type": "code",
   "execution_count": 5,
   "metadata": {},
   "outputs": [
    {
     "data": {
      "text/plain": [
       "'BETUFNVADWGPLRJOHMXKZQCISY'"
      ]
     },
     "execution_count": 5,
     "metadata": {},
     "output_type": "execute_result"
    }
   ],
   "source": [
    "#answer 1\n",
    "out"
   ]
  },
  {
   "cell_type": "code",
   "execution_count": 6,
   "metadata": {},
   "outputs": [],
   "source": [
    "import string\n",
    "duration_mapping = {c: i+61 for i, c in enumerate(string.ascii_uppercase)}"
   ]
  },
  {
   "cell_type": "code",
   "execution_count": 7,
   "metadata": {},
   "outputs": [],
   "source": [
    "tasks = []\n",
    "d = initial.copy()\n",
    "out = ''\n",
    "time = 0\n",
    "WORKERS = 5\n",
    "while len(d.keys()):\n",
    "    can_start = sorted([k for k,v in d.items() if len(v) == 0], reverse=True)\n",
    "    ongoing = set([c for c, t in tasks])\n",
    "    while can_start and len(tasks) < WORKERS:\n",
    "        c = can_start.pop()\n",
    "        if c in ongoing:\n",
    "            continue\n",
    "        tasks.append((c, duration_mapping[c]))\n",
    "    while not any([t == 0 for c, t in tasks]):\n",
    "        time += 1\n",
    "        tasks = [(c, t-1) for c, t in tasks]\n",
    "    completed = [c for c, t in tasks if t == 0]    \n",
    "    for complete in completed:\n",
    "        if complete in d:\n",
    "            del d[complete]\n",
    "        d = {k:v-set(complete) for k,v in d.items()}\n",
    "        tasks = [(c, t) for c, t in tasks if c != complete]\n",
    "        out += complete"
   ]
  },
  {
   "cell_type": "code",
   "execution_count": 8,
   "metadata": {},
   "outputs": [
    {
     "data": {
      "text/plain": [
       "848"
      ]
     },
     "execution_count": 8,
     "metadata": {},
     "output_type": "execute_result"
    }
   ],
   "source": [
    "#anser 2\n",
    "time"
   ]
  }
 ],
 "metadata": {
  "kernelspec": {
   "display_name": "Python 3",
   "language": "python",
   "name": "python3"
  },
  "language_info": {
   "codemirror_mode": {
    "name": "ipython",
    "version": 3
   },
   "file_extension": ".py",
   "mimetype": "text/x-python",
   "name": "python",
   "nbconvert_exporter": "python",
   "pygments_lexer": "ipython3",
   "version": "3.7.1"
  }
 },
 "nbformat": 4,
 "nbformat_minor": 2
}
