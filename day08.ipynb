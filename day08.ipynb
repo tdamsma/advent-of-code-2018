{
 "cells": [
  {
   "cell_type": "code",
   "execution_count": 1,
   "metadata": {},
   "outputs": [],
   "source": [
    "line = \"2 3 0 3 10 11 12 1 1 0 1 99 2 1 1 2\""
   ]
  },
  {
   "cell_type": "code",
   "execution_count": 2,
   "metadata": {},
   "outputs": [],
   "source": [
    "with open('day08-input.txt') as fp:\n",
    "    line = fp.read()"
   ]
  },
  {
   "cell_type": "code",
   "execution_count": 3,
   "metadata": {},
   "outputs": [
    {
     "data": {
      "text/plain": [
       "45618"
      ]
     },
     "execution_count": 3,
     "metadata": {},
     "output_type": "execute_result"
    }
   ],
   "source": [
    "# answer 1\n",
    "t = [int(c) for c in line.split(' ')]\n",
    "meta = []\n",
    "def parse_line(t):\n",
    "    if not(t):\n",
    "        return\n",
    "    n_children = t.pop(0)\n",
    "    n_meta = t.pop(0)\n",
    "    for i in range(n_children):\n",
    "        parse_line(t)\n",
    "    for i in range(n_meta):\n",
    "        mc = t.pop(0)\n",
    "        meta.append(mc)\n",
    "    return \n",
    "parse_line(t)\n",
    "sum(meta)"
   ]
  },
  {
   "cell_type": "code",
   "execution_count": 4,
   "metadata": {},
   "outputs": [
    {
     "data": {
      "text/plain": [
       "22306"
      ]
     },
     "execution_count": 4,
     "metadata": {},
     "output_type": "execute_result"
    }
   ],
   "source": [
    "# answer 2\n",
    "t = [int(c) for c in line.split(' ')]\n",
    "def parse_line(t):\n",
    "    if not(t):\n",
    "        return\n",
    "    value = 0\n",
    "    child_values = []\n",
    "    n_children = t.pop(0)\n",
    "    n_meta = t.pop(0)\n",
    "\n",
    "    for i in range(n_children):\n",
    "        child_values.append(parse_line(t))\n",
    "        \n",
    "    for i in range(n_meta):\n",
    "        mc = t.pop(0) \n",
    "        if n_children == 0:\n",
    "            value += mc\n",
    "        else:\n",
    "            if mc-1 in range(n_children):\n",
    "                value += child_values[mc-1]\n",
    "\n",
    "    return value\n",
    "parse_line(t)"
   ]
  }
 ],
 "metadata": {
  "kernelspec": {
   "display_name": "Python 3",
   "language": "python",
   "name": "python3"
  },
  "language_info": {
   "codemirror_mode": {
    "name": "ipython",
    "version": 3
   },
   "file_extension": ".py",
   "mimetype": "text/x-python",
   "name": "python",
   "nbconvert_exporter": "python",
   "pygments_lexer": "ipython3",
   "version": "3.7.1"
  }
 },
 "nbformat": 4,
 "nbformat_minor": 2
}
