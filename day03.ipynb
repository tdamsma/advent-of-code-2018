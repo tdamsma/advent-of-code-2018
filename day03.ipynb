{
 "cells": [
  {
   "cell_type": "code",
   "execution_count": 1,
   "metadata": {},
   "outputs": [],
   "source": [
    "with open('day03-input.txt') as fp:\n",
    "    input = fp.read()"
   ]
  },
  {
   "cell_type": "code",
   "execution_count": 2,
   "metadata": {},
   "outputs": [],
   "source": [
    "import numpy as np\n",
    "claimed = np.zeros((1000,1000), dtype=np.int)"
   ]
  },
  {
   "cell_type": "code",
   "execution_count": 3,
   "metadata": {},
   "outputs": [],
   "source": [
    "import re\n",
    "\n",
    "for line in input.splitlines():\n",
    "    boxid, left, top , width, height = re.search('#(\\d+) @ (\\d+),(\\d+): (\\d+)x(\\d+)', line).groups()\n",
    "    left = int(left)\n",
    "    top = int(top)\n",
    "    width = int(width)\n",
    "    height = int(height)\n",
    "    claimed[left:left+width, top:top+height] += 1"
   ]
  },
  {
   "cell_type": "code",
   "execution_count": 4,
   "metadata": {},
   "outputs": [
    {
     "data": {
      "text/plain": [
       "107043"
      ]
     },
     "execution_count": 4,
     "metadata": {},
     "output_type": "execute_result"
    }
   ],
   "source": [
    "# answer 1\n",
    "len(claimed[claimed>1])"
   ]
  },
  {
   "cell_type": "code",
   "execution_count": 5,
   "metadata": {},
   "outputs": [
    {
     "name": "stdout",
     "output_type": "stream",
     "text": [
      "346\n"
     ]
    }
   ],
   "source": [
    "# answer 2\n",
    "for line in input.splitlines():\n",
    "    boxid, left, top , width, height = re.search('#(\\d+) @ (\\d+),(\\d+): (\\d+)x(\\d+)', line).groups()\n",
    "    left = int(left)\n",
    "    top = int(top)\n",
    "    width = int(width)\n",
    "    height = int(height)\n",
    "    if np.all(claimed[left:left+width, top:top+height] == 1):\n",
    "        print(boxid)"
   ]
  }
 ],
 "metadata": {
  "kernelspec": {
   "display_name": "Python 3",
   "language": "python",
   "name": "python3"
  },
  "language_info": {
   "codemirror_mode": {
    "name": "ipython",
    "version": 3
   },
   "file_extension": ".py",
   "mimetype": "text/x-python",
   "name": "python",
   "nbconvert_exporter": "python",
   "pygments_lexer": "ipython3",
   "version": "3.7.1"
  }
 },
 "nbformat": 4,
 "nbformat_minor": 2
}
