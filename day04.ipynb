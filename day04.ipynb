{
 "cells": [
  {
   "cell_type": "code",
   "execution_count": 1,
   "metadata": {},
   "outputs": [],
   "source": [
    "with open('day04-input.txt') as fp:\n",
    "    input = fp.read()"
   ]
  },
  {
   "cell_type": "code",
   "execution_count": 2,
   "metadata": {},
   "outputs": [],
   "source": [
    "import numpy as np\n",
    "from collections import defaultdict\n",
    "output = defaultdict(lambda: np.zeros((60), np.int))\n",
    "is_asleep = False\n",
    "\n",
    "for line in sorted(input.splitlines()):\n",
    "    hour, minute = line[12:17].split(':')\n",
    "    minute = int(minute)\n",
    "\n",
    "    msg = line[19:]\n",
    "    if msg.startswith('Guard'):\n",
    "        # save current guard\n",
    "        if is_asleep:\n",
    "            output[guard_id][start_sleep:60] += 1\n",
    "        \n",
    "        guard_id = int(msg.split(' ')[1][1:])\n",
    "\n",
    "        is_asleep = False\n",
    "    elif msg.startswith('wakes'):\n",
    "        output[guard_id][start_sleep:minute] += 1\n",
    "        is_asleep = False\n",
    "        \n",
    "    elif msg.startswith('falls') and not is_asleep:\n",
    "        start_sleep = minute\n",
    "        is_asleep = True\n",
    "if is_asleep:\n",
    "    output[guard_id][start_sleep:60] += 1        "
   ]
  },
  {
   "cell_type": "code",
   "execution_count": 3,
   "metadata": {},
   "outputs": [
    {
     "data": {
      "text/plain": [
       "14346"
      ]
     },
     "execution_count": 3,
     "metadata": {},
     "output_type": "execute_result"
    }
   ],
   "source": [
    "#answer 1\n",
    "total_sleeping, minute, guard = sorted([(sum(v), np.argmax(v), k) for k, v in output.items()])[-1]\n",
    "guard * minute"
   ]
  },
  {
   "cell_type": "code",
   "execution_count": 4,
   "metadata": {},
   "outputs": [
    {
     "data": {
      "text/plain": [
       "5705"
      ]
     },
     "execution_count": 4,
     "metadata": {},
     "output_type": "execute_result"
    }
   ],
   "source": [
    "#answer 2\n",
    "times_sleeping, minute, guard = sorted([(np.max(v), np.argmax(v), k) for k, v in output.items()])[-1] \n",
    "guard * minute"
   ]
  }
 ],
 "metadata": {
  "kernelspec": {
   "display_name": "Python 3",
   "language": "python",
   "name": "python3"
  },
  "language_info": {
   "codemirror_mode": {
    "name": "ipython",
    "version": 3
   },
   "file_extension": ".py",
   "mimetype": "text/x-python",
   "name": "python",
   "nbconvert_exporter": "python",
   "pygments_lexer": "ipython3",
   "version": "3.7.1"
  }
 },
 "nbformat": 4,
 "nbformat_minor": 2
}
