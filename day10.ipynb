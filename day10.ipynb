{
 "cells": [
  {
   "cell_type": "code",
   "execution_count": 1,
   "metadata": {},
   "outputs": [],
   "source": [
    "input = \"\"\"position=< 9,  1> velocity=< 0,  2>\n",
    "position=< 7,  0> velocity=<-1,  0>\n",
    "position=< 3, -2> velocity=<-1,  1>\n",
    "position=< 6, 10> velocity=<-2, -1>\n",
    "position=< 2, -4> velocity=< 2,  2>\n",
    "position=<-6, 10> velocity=< 2, -2>\n",
    "position=< 1,  8> velocity=< 1, -1>\n",
    "position=< 1,  7> velocity=< 1,  0>\n",
    "position=<-3, 11> velocity=< 1, -2>\n",
    "position=< 7,  6> velocity=<-1, -1>\n",
    "position=<-2,  3> velocity=< 1,  0>\n",
    "position=<-4,  3> velocity=< 2,  0>\n",
    "position=<10, -3> velocity=<-1,  1>\n",
    "position=< 5, 11> velocity=< 1, -2>\n",
    "position=< 4,  7> velocity=< 0, -1>\n",
    "position=< 8, -2> velocity=< 0,  1>\n",
    "position=<15,  0> velocity=<-2,  0>\n",
    "position=< 1,  6> velocity=< 1,  0>\n",
    "position=< 8,  9> velocity=< 0, -1>\n",
    "position=< 3,  3> velocity=<-1,  1>\n",
    "position=< 0,  5> velocity=< 0, -1>\n",
    "position=<-2,  2> velocity=< 2,  0>\n",
    "position=< 5, -2> velocity=< 1,  2>\n",
    "position=< 1,  4> velocity=< 2,  1>\n",
    "position=<-2,  7> velocity=< 2, -2>\n",
    "position=< 3,  6> velocity=<-1, -1>\n",
    "position=< 5,  0> velocity=< 1,  0>\n",
    "position=<-6,  0> velocity=< 2,  0>\n",
    "position=< 5,  9> velocity=< 1, -2>\n",
    "position=<14,  7> velocity=<-2,  0>\n",
    "position=<-3,  6> velocity=< 2, -1>\"\"\""
   ]
  },
  {
   "cell_type": "code",
   "execution_count": 2,
   "metadata": {},
   "outputs": [],
   "source": [
    "with open('day10-input.txt') as fp:\n",
    "    input = fp.read()"
   ]
  },
  {
   "cell_type": "code",
   "execution_count": 3,
   "metadata": {},
   "outputs": [],
   "source": [
    "import re\n",
    "import numpy as np"
   ]
  },
  {
   "cell_type": "code",
   "execution_count": 4,
   "metadata": {},
   "outputs": [],
   "source": [
    "data = []\n",
    "for line in input.splitlines():\n",
    "     data.append([int(n) for n in re.findall('-?\\d+',line)])\n",
    "p = np.array(data)"
   ]
  },
  {
   "cell_type": "code",
   "execution_count": 5,
   "metadata": {},
   "outputs": [],
   "source": [
    "def predict_at(n):\n",
    "    x = p[:,0] + n * p[:,2]\n",
    "    y = p[:,1] + n * p[:,3]\n",
    "    return x, y"
   ]
  },
  {
   "cell_type": "code",
   "execution_count": 6,
   "metadata": {},
   "outputs": [],
   "source": [
    "def area(n):\n",
    "    x, y = predict_at(n)\n",
    "    return ((max(x)-min(x)) * (max(y)-min(y)))"
   ]
  },
  {
   "cell_type": "code",
   "execution_count": 7,
   "metadata": {},
   "outputs": [],
   "source": [
    "# find when extent of message starts growing\n",
    "prev = area(0)\n",
    "n = 1\n",
    "while area(n) < prev:\n",
    "    prev = area(n)\n",
    "    n += 1\n",
    "    \n",
    "timestep = n-1"
   ]
  },
  {
   "cell_type": "code",
   "execution_count": 8,
   "metadata": {},
   "outputs": [],
   "source": [
    "x, y = predict_at(timestep)\n",
    "bord = np.zeros((max(y) - min(y) + 1, max(x) - min(x) + 1), dtype=np.bool) \n",
    "\n",
    "for x0, y0 in zip(x,y):\n",
    "    bord[y0 - min(y),x0 - min(x)] = True"
   ]
  },
  {
   "cell_type": "code",
   "execution_count": 9,
   "metadata": {},
   "outputs": [
    {
     "name": "stdout",
     "output_type": "stream",
     "text": [
      "█       █    █  █████   █    █  ██████  █    █  █    █     ███\n",
      "█       █   █   █    █  █    █       █  █    █  █    █      █ \n",
      "█       █  █    █    █  █    █       █  █    █  █    █      █ \n",
      "█       █ █     █    █  █    █      █   █    █  █    █      █ \n",
      "█       ██      █████   ██████     █    ██████  ██████      █ \n",
      "█       ██      █       █    █    █     █    █  █    █      █ \n",
      "█       █ █     █       █    █   █      █    █  █    █      █ \n",
      "█       █  █    █       █    █  █       █    █  █    █  █   █ \n",
      "█       █   █   █       █    █  █       █    █  █    █  █   █ \n",
      "██████  █    █  █       █    █  ██████  █    █  █    █   ███  \n"
     ]
    }
   ],
   "source": [
    "# answer 1\n",
    "for row in range(bord.shape[0]):\n",
    "    print(''.join(['█' if v else ' ' for v in bord[row,:] ]))"
   ]
  },
  {
   "cell_type": "code",
   "execution_count": 10,
   "metadata": {},
   "outputs": [
    {
     "data": {
      "text/plain": [
       "10159"
      ]
     },
     "execution_count": 10,
     "metadata": {},
     "output_type": "execute_result"
    }
   ],
   "source": [
    "#answer 2\n",
    "timestep"
   ]
  }
 ],
 "metadata": {
  "kernelspec": {
   "display_name": "Python 3",
   "language": "python",
   "name": "python3"
  },
  "language_info": {
   "codemirror_mode": {
    "name": "ipython",
    "version": 3
   },
   "file_extension": ".py",
   "mimetype": "text/x-python",
   "name": "python",
   "nbconvert_exporter": "python",
   "pygments_lexer": "ipython3",
   "version": "3.7.1"
  }
 },
 "nbformat": 4,
 "nbformat_minor": 2
}
