{
 "cells": [
  {
   "cell_type": "code",
   "execution_count": 1,
   "metadata": {},
   "outputs": [],
   "source": [
    "from collections import deque"
   ]
  },
  {
   "cell_type": "code",
   "execution_count": 2,
   "metadata": {},
   "outputs": [
    {
     "name": "stdout",
     "output_type": "stream",
     "text": [
      "[0, '1']\n",
      "[0, '2', 1]\n",
      "[0, 2, 1, '3']\n",
      "[0, '4', 2, 1, 3]\n",
      "[0, 4, 2, '5', 1, 3]\n",
      "[0, 4, 2, 5, 1, '6', 3]\n",
      "[0, 4, 2, 5, 1, 6, 3, '7']\n",
      "[0, '8', 4, 2, 5, 1, 6, 3, 7]\n",
      "[0, 8, 4, '9', 2, 5, 1, 6, 3, 7]\n",
      "[0, 8, 4, 9, 2, '10', 5, 1, 6, 3, 7]\n",
      "[0, 8, 4, 9, 2, 10, 5, '11', 1, 6, 3, 7]\n",
      "[0, 8, 4, 9, 2, 10, 5, 11, 1, '12', 6, 3, 7]\n",
      "[0, 8, 4, 9, 2, 10, 5, 11, 1, 12, 6, '13', 3, 7]\n",
      "[0, 8, 4, 9, 2, 10, 5, 11, 1, 12, 6, 13, 3, '14', 7]\n",
      "[0, 8, 4, 9, 2, 10, 5, 11, 1, 12, 6, 13, 3, 14, 7, '15']\n",
      "[0, '16', 8, 4, 9, 2, 10, 5, 11, 1, 12, 6, 13, 3, 14, 7, 15]\n",
      "[0, 16, 8, '17', 4, 9, 2, 10, 5, 11, 1, 12, 6, 13, 3, 14, 7, 15]\n",
      "[0, 16, 8, 17, 4, '18', 9, 2, 10, 5, 11, 1, 12, 6, 13, 3, 14, 7, 15]\n",
      "[0, 16, 8, 17, 4, 18, 9, '19', 2, 10, 5, 11, 1, 12, 6, 13, 3, 14, 7, 15]\n",
      "[0, 16, 8, 17, 4, 18, 9, 19, 2, '20', 10, 5, 11, 1, 12, 6, 13, 3, 14, 7, 15]\n",
      "[0, 16, 8, 17, 4, 18, 9, 19, 2, 20, 10, '21', 5, 11, 1, 12, 6, 13, 3, 14, 7, 15]\n",
      "[0, 16, 8, 17, 4, 18, 9, 19, 2, 20, 10, 21, 5, '22', 11, 1, 12, 6, 13, 3, 14, 7, 15]\n",
      "[0, 16, 8, 17, 4, 18, '19', 2, 20, 10, 21, 5, 22, 11, 1, 12, 6, 13, 3, 14, 7, 15]\n",
      "[0, 16, 8, 17, 4, 18, 19, 2, '24', 20, 10, 21, 5, 22, 11, 1, 12, 6, 13, 3, 14, 7, 15]\n",
      "[0, 16, 8, 17, 4, 18, 19, 2, 24, 20, '25', 10, 21, 5, 22, 11, 1, 12, 6, 13, 3, 14, 7, 15]\n",
      "32\n"
     ]
    }
   ],
   "source": [
    "# reproduce example\n",
    "marbles = deque()\n",
    "n_players = 9\n",
    "points = [0, ] * n_players\n",
    "for n in range(26):\n",
    "\n",
    "    if n > 0 and n % 23 == 0:\n",
    "        marbles.rotate(7)\n",
    "        player = (n % n_players)\n",
    "        points[player] += n + marbles.popleft()\n",
    "    else:\n",
    "        marbles.rotate(-2)\n",
    "        marbles.insert(0,n)\n",
    "        \n",
    "    if n > 0:\n",
    "        p = marbles.copy()\n",
    "        p[0] = str(p[0])\n",
    "        p.rotate(-list(marbles).index(min(marbles)))\n",
    "        print(list(p))\n",
    "        \n",
    "print(max(points))"
   ]
  },
  {
   "cell_type": "code",
   "execution_count": 3,
   "metadata": {},
   "outputs": [
    {
     "name": "stdout",
     "output_type": "stream",
     "text": [
      "416424\n"
     ]
    }
   ],
   "source": [
    "# answer 1\n",
    "# 413 players; last marble is worth 71082 points\n",
    "marbles = deque()\n",
    "n_players = 413\n",
    "points = [0, ] * n_players\n",
    "for n in range(71082 + 1):\n",
    "\n",
    "    \n",
    "    if n > 0 and n % 23 == 0:\n",
    "        marbles.rotate(7)\n",
    "        player = (n % n_players)\n",
    "        points[player] += n + marbles.popleft()\n",
    "    else:\n",
    "        marbles.rotate(-2)\n",
    "        marbles.insert(0,n)\n",
    "        \n",
    "print(max(points))"
   ]
  },
  {
   "cell_type": "code",
   "execution_count": 4,
   "metadata": {},
   "outputs": [
    {
     "name": "stdout",
     "output_type": "stream",
     "text": [
      "3498287922\n"
     ]
    }
   ],
   "source": [
    "# answer 2\n",
    "marbles = deque()\n",
    "n_players = 413\n",
    "points = [0, ] * n_players\n",
    "for n in range(71082 * 100 + 1):\n",
    "\n",
    "    \n",
    "    if n > 0 and n % 23 == 0:\n",
    "        marbles.rotate(7)\n",
    "        player = (n % n_players)\n",
    "        points[player] += n + marbles.popleft()\n",
    "    else:\n",
    "        marbles.rotate(-2)\n",
    "        marbles.insert(0,n)\n",
    "        \n",
    "print(max(points))"
   ]
  }
 ],
 "metadata": {
  "kernelspec": {
   "display_name": "Python 3",
   "language": "python",
   "name": "python3"
  },
  "language_info": {
   "codemirror_mode": {
    "name": "ipython",
    "version": 3
   },
   "file_extension": ".py",
   "mimetype": "text/x-python",
   "name": "python",
   "nbconvert_exporter": "python",
   "pygments_lexer": "ipython3",
   "version": "3.7.1"
  }
 },
 "nbformat": 4,
 "nbformat_minor": 2
}
