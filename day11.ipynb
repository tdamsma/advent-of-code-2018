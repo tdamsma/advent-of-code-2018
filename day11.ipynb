{
 "cells": [
  {
   "cell_type": "code",
   "execution_count": 1,
   "metadata": {},
   "outputs": [],
   "source": [
    "import numpy as np"
   ]
  },
  {
   "cell_type": "code",
   "execution_count": 2,
   "metadata": {},
   "outputs": [],
   "source": [
    "def calc_power_level(x,y, serial_number):\n",
    "    rack_id = x + 10\n",
    "    v = rack_id*y\n",
    "\n",
    "    v += serial_number\n",
    "    v *= rack_id\n",
    "    pl = int(str(v)[-3]) if v > 99 else 0\n",
    "    return pl - 5"
   ]
  },
  {
   "cell_type": "code",
   "execution_count": 3,
   "metadata": {},
   "outputs": [
    {
     "data": {
      "text/plain": [
       "True"
      ]
     },
     "execution_count": 3,
     "metadata": {},
     "output_type": "execute_result"
    }
   ],
   "source": [
    "# check example 1\n",
    "x,y,serial_number, power_level = (122, 79, 57, -5)\n",
    "calc_power_level(x, y, serial_number) == power_level"
   ]
  },
  {
   "cell_type": "code",
   "execution_count": 4,
   "metadata": {},
   "outputs": [
    {
     "data": {
      "text/plain": [
       "True"
      ]
     },
     "execution_count": 4,
     "metadata": {},
     "output_type": "execute_result"
    }
   ],
   "source": [
    "# check example 2\n",
    "x,y,serial_number, power_level = (217, 196, 39, 0)\n",
    "calc_power_level(x, y, serial_number) == power_level"
   ]
  },
  {
   "cell_type": "code",
   "execution_count": 5,
   "metadata": {},
   "outputs": [],
   "source": [
    "# calculate array of values:\n",
    "serial_number = 5468\n",
    "arr = np.zeros((300,300), dtype=int)\n",
    "for x in range(1,301):\n",
    "    for y in range(1,301):\n",
    "        arr[x-1, y-1] = calc_power_level(x,y,serial_number)"
   ]
  },
  {
   "cell_type": "code",
   "execution_count": 6,
   "metadata": {},
   "outputs": [
    {
     "name": "stdout",
     "output_type": "stream",
     "text": [
      "[243, 64]\n"
     ]
    }
   ],
   "source": [
    "# answer 1\n",
    "from scipy.signal import convolve2d\n",
    "\n",
    "n = 3\n",
    "kernel = np.ones((n, n), dtype=int)\n",
    "convoluted = convolve2d(arr, kernel, mode='same')\n",
    "\n",
    "x0, y0 = np.unravel_index(convoluted.argmax(), convoluted.shape)\n",
    "answer = [x0-n//2+1, y0-n//2+1]\n",
    "print(answer)"
   ]
  },
  {
   "cell_type": "code",
   "execution_count": 7,
   "metadata": {},
   "outputs": [
    {
     "name": "stdout",
     "output_type": "stream",
     "text": [
      "stopped at n = 26\n"
     ]
    },
    {
     "data": {
      "text/plain": [
       "[90, 101, 15]"
      ]
     },
     "execution_count": 7,
     "metadata": {},
     "output_type": "execute_result"
    }
   ],
   "source": [
    "# answer 2\n",
    "p = 0\n",
    "for n in range(1,301):\n",
    "    kernel = np.ones((n, n), dtype=int)\n",
    "    convoluted = convolve2d(arr, kernel, mode='same')\n",
    "    \n",
    "    x0, y0 = np.unravel_index(convoluted.argmax(), convoluted.shape)\n",
    "    if np.max(convoluted) > p:\n",
    "        p = np.max(convoluted)\n",
    "        answer = [x0-n//2+1, y0-n//2+1, n]\n",
    "    elif np.max(convoluted) < p - 100:\n",
    "        print('stopped at n =',n)\n",
    "        break\n",
    "answer"
   ]
  }
 ],
 "metadata": {
  "kernelspec": {
   "display_name": "Python 3",
   "language": "python",
   "name": "python3"
  },
  "language_info": {
   "codemirror_mode": {
    "name": "ipython",
    "version": 3
   },
   "file_extension": ".py",
   "mimetype": "text/x-python",
   "name": "python",
   "nbconvert_exporter": "python",
   "pygments_lexer": "ipython3",
   "version": "3.7.1"
  }
 },
 "nbformat": 4,
 "nbformat_minor": 2
}
