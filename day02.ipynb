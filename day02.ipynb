{
 "cells": [
  {
   "cell_type": "code",
   "execution_count": 3,
   "metadata": {},
   "outputs": [],
   "source": [
    "with open('day02-input.txt') as fp:\n",
    "    input = fp.read()"
   ]
  },
  {
   "cell_type": "code",
   "execution_count": 27,
   "metadata": {},
   "outputs": [
    {
     "data": {
      "text/plain": [
       "Counter({1: 250, 2: 246, 4: 1, 3: 35})"
      ]
     },
     "execution_count": 27,
     "metadata": {},
     "output_type": "execute_result"
    }
   ],
   "source": [
    "from collections import Counter\n",
    "totals = Counter()\n",
    "for boxid in input.splitlines():\n",
    "    totals.update(list(set(Counter(boxid).values())))\n",
    "totals"
   ]
  },
  {
   "cell_type": "code",
   "execution_count": 28,
   "metadata": {},
   "outputs": [
    {
     "data": {
      "text/plain": [
       "8610"
      ]
     },
     "execution_count": 28,
     "metadata": {},
     "output_type": "execute_result"
    }
   ],
   "source": [
    "# answer 1\n",
    "totals[2] * totals[3]"
   ]
  },
  {
   "cell_type": "code",
   "execution_count": 42,
   "metadata": {},
   "outputs": [
    {
     "name": "stdout",
     "output_type": "stream",
     "text": [
      "iosnxmfkpabcjpdywvrtawhluy\n",
      "iosnxmfkpabcjpdywvrtaqhluy\n"
     ]
    }
   ],
   "source": [
    "seen = []\n",
    "def compare(a,b):\n",
    "    differences = 0\n",
    "    for i, j in zip(a,b):\n",
    "        if i != j:\n",
    "            differences += 1\n",
    "    return differences\n",
    "for boxid in input.splitlines():\n",
    "    for other in seen:   \n",
    "        if compare(boxid, other) < 2:\n",
    "            a,b = boxid, other\n",
    "            print(f'{boxid}\\n{other}')\n",
    "    seen.append(boxid)"
   ]
  },
  {
   "cell_type": "code",
   "execution_count": 44,
   "metadata": {},
   "outputs": [
    {
     "data": {
      "text/plain": [
       "'iosnxmfkpabcjpdywvrtahluy'"
      ]
     },
     "execution_count": 44,
     "metadata": {},
     "output_type": "execute_result"
    }
   ],
   "source": [
    "# answer 2\n",
    "print(''.join([x for x, y in zip(a,b) if x == y]))"
   ]
  }
 ],
 "metadata": {
  "kernelspec": {
   "display_name": "Python 3",
   "language": "python",
   "name": "python3"
  },
  "language_info": {
   "codemirror_mode": {
    "name": "ipython",
    "version": 3
   },
   "file_extension": ".py",
   "mimetype": "text/x-python",
   "name": "python",
   "nbconvert_exporter": "python",
   "pygments_lexer": "ipython3",
   "version": "3.7.1"
  }
 },
 "nbformat": 4,
 "nbformat_minor": 2
}
