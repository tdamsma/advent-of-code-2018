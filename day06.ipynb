{
 "cells": [
  {
   "cell_type": "code",
   "execution_count": 198,
   "metadata": {},
   "outputs": [],
   "source": [
    "import numpy as np\n",
    "import pandas as pd\n",
    "coords = pd.read_csv('day06-input.txt', names=['x','y'])\n",
    "coords['x'] -= min(coords['x']) - 2\n",
    "coords['y'] -= min(coords['y']) - 2"
   ]
  },
  {
   "cell_type": "code",
   "execution_count": 200,
   "metadata": {},
   "outputs": [
    {
     "data": {
      "text/plain": [
       "(2, 310, 2, 302)"
      ]
     },
     "execution_count": 200,
     "metadata": {},
     "output_type": "execute_result"
    }
   ],
   "source": [
    "minx = min(coords['x'])\n",
    "maxx = max(coords['x'])+2\n",
    "miny = min(coords['y'])\n",
    "maxy = max(coords['y'])+2\n",
    "minx, maxx, miny, maxy"
   ]
  },
  {
   "cell_type": "code",
   "execution_count": 201,
   "metadata": {},
   "outputs": [
    {
     "data": {
      "text/plain": [
       "array([[-2, -2, -2, ..., -2, -2, -2],\n",
       "       [-2, -2, -2, ..., -2, -2, -2],\n",
       "       [-2, -2, -2, ..., -2, -2, -2],\n",
       "       ...,\n",
       "       [-2, -2, -2, ..., -2, -2, -2],\n",
       "       [-2, -2, -2, ..., -2, -2, -2],\n",
       "       [-2, -2, -2, ..., -2, -2, -2]])"
      ]
     },
     "execution_count": 201,
     "metadata": {},
     "output_type": "execute_result"
    }
   ],
   "source": [
    "grid = np.zeros((maxx, maxy), int)-2\n",
    "for i, (x, y) in enumerate(coords.values):\n",
    "    grid[x,y] = i"
   ]
  },
  {
   "cell_type": "code",
   "execution_count": 202,
   "metadata": {},
   "outputs": [],
   "source": [
    "modifications = True\n",
    "while modifications:\n",
    "    newgrid = grid.copy()\n",
    "    modifications = False\n",
    "    for x in range(1, maxx-1):\n",
    "        for y in range(1, maxy-1):\n",
    "            if grid[x,y] >= 0:\n",
    "                newgrid[x,y] = grid[x,y]\n",
    "            elif grid[x,y] != -1:\n",
    "                modifications = True\n",
    "                options = np.array([grid[x-1,y], grid[x+1,y], grid[x,y-1], grid[x,y+1]])\n",
    "                if len(set(options[(options >= 0)])) == 1:\n",
    "                    newgrid[x,y] = max(options)\n",
    "                elif len(set(options[(options >= 0)])) > 1:\n",
    "                    newgrid[x,y] = -1\n",
    "    \n",
    "    grid = newgrid.copy()"
   ]
  },
  {
   "cell_type": "code",
   "execution_count": 203,
   "metadata": {},
   "outputs": [
    {
     "data": {
      "text/plain": [
       "{-2, -1, 3, 7, 8, 9, 12, 13, 17, 18, 20, 21, 23, 28, 29, 33, 36, 42, 44, 46}"
      ]
     },
     "execution_count": 203,
     "metadata": {},
     "output_type": "execute_result"
    }
   ],
   "source": [
    "# find points on edge (these have infinite extent) \n",
    "on_edge = set(list(grid[1,:]) + list(grid[-2,:]) + list(grid[:,1]) + list(grid[:,-2]))\n",
    "on_edge"
   ]
  },
  {
   "cell_type": "code",
   "execution_count": 204,
   "metadata": {},
   "outputs": [],
   "source": [
    "# set all these points to -2 (=ignore)\n",
    "grid[np.isin(grid, list(on_edge))] = -2"
   ]
  },
  {
   "cell_type": "code",
   "execution_count": 205,
   "metadata": {},
   "outputs": [],
   "source": [
    "unique_elements, counts_elements = np.unique(grid, return_counts=True)"
   ]
  },
  {
   "cell_type": "code",
   "execution_count": 207,
   "metadata": {},
   "outputs": [
    {
     "data": {
      "text/plain": [
       "4011"
      ]
     },
     "execution_count": 207,
     "metadata": {},
     "output_type": "execute_result"
    }
   ],
   "source": [
    "# answer 1\n",
    "max(counts_elements[unique_elements > 0])"
   ]
  },
  {
   "cell_type": "code",
   "execution_count": 215,
   "metadata": {},
   "outputs": [],
   "source": [
    "x = 100\n",
    "y = 0\n",
    "\n",
    "spots = 0\n",
    "for x in range(0, maxx):\n",
    "    for y in range(0, maxy):\n",
    "        if sum(abs(coords['x'] - x)) +  sum(abs(coords['y'] - y)) < 10000:\n",
    "            spots += 1\n",
    "            # check if our search area is large enough\n",
    "            assert(0<x<maxx)\n",
    "            assert(0<y<maxy)"
   ]
  },
  {
   "cell_type": "code",
   "execution_count": 216,
   "metadata": {},
   "outputs": [
    {
     "data": {
      "text/plain": [
       "46054"
      ]
     },
     "execution_count": 216,
     "metadata": {},
     "output_type": "execute_result"
    }
   ],
   "source": [
    "# answer 2\n",
    "spots"
   ]
  }
 ],
 "metadata": {
  "kernelspec": {
   "display_name": "Python 3",
   "language": "python",
   "name": "python3"
  },
  "language_info": {
   "codemirror_mode": {
    "name": "ipython",
    "version": 3
   },
   "file_extension": ".py",
   "mimetype": "text/x-python",
   "name": "python",
   "nbconvert_exporter": "python",
   "pygments_lexer": "ipython3",
   "version": "3.7.1"
  }
 },
 "nbformat": 4,
 "nbformat_minor": 2
}
